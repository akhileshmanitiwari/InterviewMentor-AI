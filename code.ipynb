{
 "cells": [
  {
   "cell_type": "code",
   "execution_count": 50,
   "id": "599679f3",
   "metadata": {},
   "outputs": [],
   "source": [
    "# =====================================\n",
    "# 1. Install Dependencies\n",
    "# =====================================\n",
    "# Run once\n",
    "#!pip install speechrecognition pyttsx3 sentence-transformers transformers librosa matplotlib pandas"
   ]
  },
  {
   "cell_type": "code",
   "execution_count": 51,
   "id": "29384434",
   "metadata": {},
   "outputs": [
    {
     "name": "stderr",
     "output_type": "stream",
     "text": [
      "Device set to use cpu\n"
     ]
    }
   ],
   "source": [
    "# =====================================\n",
    "# 2. Imports & Initialize Models\n",
    "# =====================================\n",
    "import speech_recognition as sr\n",
    "import pyttsx3\n",
    "from sentence_transformers import SentenceTransformer, util\n",
    "from transformers import pipeline\n",
    "import librosa\n",
    "import numpy as np\n",
    "import pandas as pd\n",
    "import matplotlib.pyplot as plt\n",
    "\n",
    "# Sentence Transformer for semantic similarity\n",
    "similarity_model = SentenceTransformer('all-MiniLM-L6-v2')\n",
    "\n",
    "# TTS engine\n",
    "engine = pyttsx3.init()\n",
    "\n",
    "# Hugging Face FLAN-T5 model for generating ideal answers\n",
    "generator = pipeline(\"text2text-generation\", model=\"google/flan-t5-base\")\n"
   ]
  },
  {
   "cell_type": "code",
   "execution_count": null,
   "id": "d536c9c6",
   "metadata": {},
   "outputs": [
    {
     "name": "stderr",
     "output_type": "stream",
     "text": [
      "Both `max_new_tokens` (=256) and `max_length`(=60) seem to have been set. `max_new_tokens` will take precedence. Please refer to the documentation for more information. (https://huggingface.co/docs/transformers/main/en/main_classes/text_generation)\n",
      "Both `max_new_tokens` (=256) and `max_length`(=60) seem to have been set. `max_new_tokens` will take precedence. Please refer to the documentation for more information. (https://huggingface.co/docs/transformers/main/en/main_classes/text_generation)\n",
      "Both `max_new_tokens` (=256) and `max_length`(=60) seem to have been set. `max_new_tokens` will take precedence. Please refer to the documentation for more information. (https://huggingface.co/docs/transformers/main/en/main_classes/text_generation)\n",
      "Both `max_new_tokens` (=256) and `max_length`(=60) seem to have been set. `max_new_tokens` will take precedence. Please refer to the documentation for more information. (https://huggingface.co/docs/transformers/main/en/main_classes/text_generation)\n",
      "Both `max_new_tokens` (=256) and `max_length`(=60) seem to have been set. `max_new_tokens` will take precedence. Please refer to the documentation for more information. (https://huggingface.co/docs/transformers/main/en/main_classes/text_generation)\n"
     ]
    },
    {
     "data": {
      "text/plain": [
       "{'Tell me about yourself.': \"I'm a graduate of the University of California, Berkeley. I'm a graduate of the University of California, Berkeley. I'm currently a professor at the University of California, Berkeley.\",\n",
       " 'What are your strengths and weaknesses?': \"I'm a hard worker and a good listener.\",\n",
       " 'Why should we hire you?': 'You have a lot of experience.',\n",
       " 'Explain polymorphism in Python.': 'Polymorphism is a phylogenetic property of polymorphism.',\n",
       " 'What is overfitting in Machine Learning?': 'Overfitting in Machine Learning'}"
      ]
     },
     "execution_count": 52,
     "metadata": {},
     "output_type": "execute_result"
    }
   ],
   "source": [
    "# =====================================\n",
    "# 3. Questions (Free Version)\n",
    "# =====================================\n",
    "questions = [\n",
    "    \"Tell me about yourself.\",\n",
    "    \"What are the common built-in data types in Python?\"\n",
    "    \"Explain polymorphism in Python.\",\n",
    "    \"Explain the difference between a list and a tuple\",\n",
    "    \"What is overfitting in Machine Learning?\",\n",
    "    \"Why should we hire you?\",\n",
    "    \"What are your strengths and weaknesses?\",\n",
    "    \"What are your career goals?\",\n",
    "    \n",
    "    \n",
    "]\n",
    "\n",
    "# Generate ideal answers using Hugging Face\n",
    "def get_ideal_answer(question):\n",
    "    prompt = f\"Give a short, professional interview answer for: {question}\"\n",
    "    response = generator(prompt, max_length=60, do_sample=False)\n",
    "    return response[0]['generated_text'].strip()\n",
    "\n",
    "ideal_answers = {q: get_ideal_answer(q) for q in questions}\n",
    "ideal_answers\n"
   ]
  },
  {
   "cell_type": "code",
   "execution_count": 53,
   "id": "0cfe6f26",
   "metadata": {},
   "outputs": [],
   "source": [
    "# =====================================\n",
    "# 4. Voice Input & Text-to-Speech\n",
    "# =====================================\n",
    "def listen_voice():\n",
    "    recognizer = sr.Recognizer()\n",
    "    with sr.Microphone() as source:\n",
    "        print(\"🎤 Speak now...\")\n",
    "        recognizer.adjust_for_ambient_noise(source)\n",
    "        audio = recognizer.listen(source)\n",
    "    try:\n",
    "        text = recognizer.recognize_google(audio)\n",
    "        print(\"You said:\", text)\n",
    "        return text\n",
    "    except:\n",
    "        return \"Sorry, could not recognize your voice.\"\n",
    "\n",
    "# 5. Text-to-Speech (Bot Response)\n",
    "\n",
    "engine = pyttsx3.init()\n",
    "\n",
    "def speak_text(text):\n",
    "    engine.say(text)\n",
    "    engine.runAndWait()\n",
    "\n"
   ]
  },
  {
   "cell_type": "code",
   "execution_count": 54,
   "id": "e274149e",
   "metadata": {},
   "outputs": [],
   "source": [
    "# =====================================\n",
    "# 5. Evaluation & Filler Detection\n",
    "# =====================================\n",
    "def evaluate_answer(question, user_answer):\n",
    "    embeddings1 = similarity_model.encode(user_answer, convert_to_tensor=True)\n",
    "    embeddings2 = similarity_model.encode(ideal_answers[question], convert_to_tensor=True)\n",
    "    score = util.cos_sim(embeddings1, embeddings2).item()\n",
    "    return round(score, 2)\n",
    "\n",
    "def check_filler_words(text):\n",
    "    fillers = [\"um\", \"uh\", \"like\", \"you know\", \"actually\"]\n",
    "    return sum(word in fillers for word in text.lower().split())\n"
   ]
  },
  {
   "cell_type": "code",
   "execution_count": 55,
   "id": "85a563ce",
   "metadata": {},
   "outputs": [
    {
     "name": "stdout",
     "output_type": "stream",
     "text": [
      "\n",
      "🤖 Interviewer: Tell me about yourself.\n",
      "🎤 Speak now...\n",
      "📝 Your Answer: Sorry, could not recognize your voice.\n",
      "✅ Content Score: 12.0%\n",
      "⚠️ Filler Words Used: 0\n",
      "💡 Feedback: Try to add more details.\n",
      "\n",
      "🤖 Interviewer: What are your strengths and weaknesses?\n",
      "🎤 Speak now...\n",
      "📝 Your Answer: Sorry, could not recognize your voice.\n",
      "✅ Content Score: 25.0%\n",
      "⚠️ Filler Words Used: 0\n",
      "💡 Feedback: Try to add more details.\n",
      "\n",
      "🤖 Interviewer: Why should we hire you?\n",
      "🎤 Speak now...\n",
      "📝 Your Answer: Sorry, could not recognize your voice.\n",
      "✅ Content Score: 12.0%\n",
      "⚠️ Filler Words Used: 0\n",
      "💡 Feedback: Try to add more details.\n",
      "\n",
      "🤖 Interviewer: Explain polymorphism in Python.\n",
      "🎤 Speak now...\n",
      "📝 Your Answer: Sorry, could not recognize your voice.\n",
      "✅ Content Score: 2.0%\n",
      "⚠️ Filler Words Used: 0\n",
      "💡 Feedback: Try to add more details.\n",
      "\n",
      "🤖 Interviewer: What is overfitting in Machine Learning?\n",
      "🎤 Speak now...\n",
      "📝 Your Answer: Sorry, could not recognize your voice.\n",
      "✅ Content Score: 11.0%\n",
      "⚠️ Filler Words Used: 0\n",
      "💡 Feedback: Try to add more details.\n"
     ]
    }
   ],
   "source": [
    "import time\n",
    "\n",
    "# =====================================\n",
    "# 6. Mock Interview Flow\n",
    "# =====================================\n",
    "results = []\n",
    "\n",
    "def run_mock_interview():\n",
    "    for q in questions:\n",
    "        # Print question\n",
    "        print(\"\\n🤖 Interviewer:\", q)\n",
    "        \n",
    "        # Small pause before speaking\n",
    "        time.sleep(1)\n",
    "        \n",
    "        # Speak the question\n",
    "        speak_text(q)\n",
    "\n",
    "        # Listen for answer\n",
    "        answer = listen_voice()\n",
    "\n",
    "        # Evaluate\n",
    "        score = evaluate_answer(q, answer)\n",
    "        fillers = check_filler_words(answer)\n",
    "\n",
    "        results.append({\"question\": q, \"score\": score*100, \"fillers\": fillers})\n",
    "\n",
    "        print(f\"📝 Your Answer: {answer}\")\n",
    "        print(f\"✅ Content Score: {score*100:.1f}%\")\n",
    "        print(f\"⚠️ Filler Words Used: {fillers}\")\n",
    "\n",
    "        feedback = \"Good job!\" if score > 0.6 else \"Try to add more details.\"\n",
    "        if fillers > 2:\n",
    "            feedback += \" Reduce filler words.\"\n",
    "\n",
    "        print(\"💡 Feedback:\", feedback)\n",
    "        speak_text(feedback)\n",
    "\n",
    "run_mock_interview()\n"
   ]
  },
  {
   "cell_type": "code",
   "execution_count": 56,
   "id": "837373e9",
   "metadata": {},
   "outputs": [
    {
     "name": "stdout",
     "output_type": "stream",
     "text": [
      "\n",
      "📊 Interview Summary:\n",
      "\n"
     ]
    },
    {
     "data": {
      "application/vnd.microsoft.datawrangler.viewer.v0+json": {
       "columns": [
        {
         "name": "index",
         "rawType": "int64",
         "type": "integer"
        },
        {
         "name": "question",
         "rawType": "object",
         "type": "string"
        },
        {
         "name": "score",
         "rawType": "float64",
         "type": "float"
        },
        {
         "name": "fillers",
         "rawType": "int64",
         "type": "integer"
        }
       ],
       "ref": "51f732a3-16e0-4670-874a-a0a4068cdaf8",
       "rows": [
        [
         "0",
         "Tell me about yourself.",
         "12.0",
         "0"
        ],
        [
         "1",
         "What are your strengths and weaknesses?",
         "25.0",
         "0"
        ],
        [
         "2",
         "Why should we hire you?",
         "12.0",
         "0"
        ],
        [
         "3",
         "Explain polymorphism in Python.",
         "2.0",
         "0"
        ],
        [
         "4",
         "What is overfitting in Machine Learning?",
         "11.0",
         "0"
        ]
       ],
       "shape": {
        "columns": 3,
        "rows": 5
       }
      },
      "text/html": [
       "<div>\n",
       "<style scoped>\n",
       "    .dataframe tbody tr th:only-of-type {\n",
       "        vertical-align: middle;\n",
       "    }\n",
       "\n",
       "    .dataframe tbody tr th {\n",
       "        vertical-align: top;\n",
       "    }\n",
       "\n",
       "    .dataframe thead th {\n",
       "        text-align: right;\n",
       "    }\n",
       "</style>\n",
       "<table border=\"1\" class=\"dataframe\">\n",
       "  <thead>\n",
       "    <tr style=\"text-align: right;\">\n",
       "      <th></th>\n",
       "      <th>question</th>\n",
       "      <th>score</th>\n",
       "      <th>fillers</th>\n",
       "    </tr>\n",
       "  </thead>\n",
       "  <tbody>\n",
       "    <tr>\n",
       "      <th>0</th>\n",
       "      <td>Tell me about yourself.</td>\n",
       "      <td>12.0</td>\n",
       "      <td>0</td>\n",
       "    </tr>\n",
       "    <tr>\n",
       "      <th>1</th>\n",
       "      <td>What are your strengths and weaknesses?</td>\n",
       "      <td>25.0</td>\n",
       "      <td>0</td>\n",
       "    </tr>\n",
       "    <tr>\n",
       "      <th>2</th>\n",
       "      <td>Why should we hire you?</td>\n",
       "      <td>12.0</td>\n",
       "      <td>0</td>\n",
       "    </tr>\n",
       "    <tr>\n",
       "      <th>3</th>\n",
       "      <td>Explain polymorphism in Python.</td>\n",
       "      <td>2.0</td>\n",
       "      <td>0</td>\n",
       "    </tr>\n",
       "    <tr>\n",
       "      <th>4</th>\n",
       "      <td>What is overfitting in Machine Learning?</td>\n",
       "      <td>11.0</td>\n",
       "      <td>0</td>\n",
       "    </tr>\n",
       "  </tbody>\n",
       "</table>\n",
       "</div>"
      ],
      "text/plain": [
       "                                   question  score  fillers\n",
       "0                   Tell me about yourself.   12.0        0\n",
       "1   What are your strengths and weaknesses?   25.0        0\n",
       "2                   Why should we hire you?   12.0        0\n",
       "3           Explain polymorphism in Python.    2.0        0\n",
       "4  What is overfitting in Machine Learning?   11.0        0"
      ]
     },
     "metadata": {},
     "output_type": "display_data"
    },
    {
     "name": "stdout",
     "output_type": "stream",
     "text": [
      "\n",
      "🔹 Average Content Score: 12.4%\n",
      "🔹 Average Filler Words: 0.0 per answer\n"
     ]
    },
    {
     "data": {
      "image/png": "[encoded data removed]",
      "text/plain": [
       "<Figure size 1000x500 with 2 Axes>"
      ]
     },
     "metadata": {},
     "output_type": "display_data"
    }
   ],
   "source": [
    "# =====================================\n",
    "# 7. Performance Summary & Visualization\n",
    "# =====================================\n",
    "df = pd.DataFrame(results)\n",
    "print(\"\\n📊 Interview Summary:\\n\")\n",
    "display(df)\n",
    "\n",
    "avg_score = df['score'].mean()\n",
    "avg_fillers = df['fillers'].mean()\n",
    "\n",
    "print(f\"\\n🔹 Average Content Score: {avg_score:.1f}%\")\n",
    "print(f\"🔹 Average Filler Words: {avg_fillers:.1f} per answer\")\n",
    "\n",
    "plt.figure(figsize=(10,5))\n",
    "plt.subplot(1,2,1)\n",
    "plt.bar(df['question'], df['score'], color='skyblue')\n",
    "plt.xticks(rotation=45, ha='right')\n",
    "plt.ylabel(\"Score (%)\")\n",
    "plt.title(\"Content Score per Question\")\n",
    "\n",
    "plt.subplot(1,2,2)\n",
    "plt.bar(df['question'], df['fillers'], color='salmon')\n",
    "plt.xticks(rotation=45, ha='right')\n",
    "plt.ylabel(\"Filler Count\")\n",
    "plt.title(\"Filler Words per Question\")\n",
    "\n",
    "plt.tight_layout()\n",
    "plt.show()\n"
   ]
  }
 ],
 "metadata": {
  "kernelspec": {
   "display_name": "Python 3",
   "language": "python",
   "name": "python3"
  },
  "language_info": {
   "codemirror_mode": {
    "name": "ipython",
    "version": 3
   },
   "file_extension": ".py",
   "mimetype": "text/x-python",
   "name": "python",
   "nbconvert_exporter": "python",
   "pygments_lexer": "ipython3",
   "version": "3.10.0"
  }
 },
 "nbformat": 4,
 "nbformat_minor": 5
}
